{
 "cells": [
  {
   "cell_type": "markdown",
   "metadata": {},
   "source": [
    "# Como automatizar o envio de e-mails?\n",
    "## Um tutorial bem simples mas que pode te devolver horas de trabalho manual\n",
    "\n",
    "Com esse algoritmo você terá uma máquina de mandar e-mails, dependendo somente de uma conta gmail para realizar os envios, de maneira simples, prática e rápida"
   ]
  },
  {
   "cell_type": "markdown",
   "metadata": {},
   "source": [
    "<center><img src=\"data:image/png;base64,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\"><center>"
   ]
  },
  {
   "cell_type": "markdown",
   "metadata": {},
   "source": [
    "### Antes de prosseguirmos, cabe notar que para executar esse tipo de automação, temos que alterar no próprio gerenciador da sua conta de gmail para a seguinte configuração:"
   ]
  },
  {
   "cell_type": "markdown",
   "metadata": {},
   "source": [
    "<center><img src=\"seguranca.png\"><center>"
   ]
  },
  {
   "cell_type": "markdown",
   "metadata": {},
   "source": [
    "### Conectando com o Google Sheets\n",
    "\n",
    "Para mais detalhes de como conseguir sua chave de acesso a API do Google Sheets [clique aqui](https://developers.google.com/sheets/api/quickstart/python)"
   ]
  },
  {
   "cell_type": "code",
   "execution_count": 29,
   "metadata": {},
   "outputs": [],
   "source": [
    "# carregando os pacotes necessários para acesso ao Google Sheets de maneira remota\n",
    "from __future__ import print_function\n",
    "import pickle\n",
    "import os.path\n",
    "from googleapiclient.discovery import build\n",
    "from google_auth_oauthlib.flow import InstalledAppFlow\n",
    "from google.auth.transport.requests import Request\n",
    "import pandas as pd # necessário para criação de um dataframe posterior a importação\n",
    "\n",
    "\n",
    "SCOPES = ['https://www.googleapis.com/auth/spreadsheets.readonly']"
   ]
  },
  {
   "cell_type": "markdown",
   "metadata": {},
   "source": [
    "### Para facilitar a intuição sobre o que estamos trabalhando, tome o seguinte exemplo de tabela de envios de email:"
   ]
  },
  {
   "cell_type": "markdown",
   "metadata": {},
   "source": [
    "<center><img src=\"sheets.png\"><center>"
   ]
  },
  {
   "cell_type": "code",
   "execution_count": null,
   "metadata": {},
   "outputs": [],
   "source": [
    "SAMPLE_SPREADSHEET_ID = 'id_da_sua_planilha' # identificação da tabela no google sheets\n",
    "SAMPLE_RANGE_NAME = 'df!A1:G1000' #importando somente as colunas que serão usadas\n",
    "\n",
    "def main():\n",
    "\n",
    "    creds = None\n",
    "    if os.path.exists('token.pickle'):\n",
    "        with open('token.pickle', 'rb') as token:\n",
    "            creds = pickle.load(token)\n",
    "    if not creds or not creds.valid:\n",
    "        if creds and creds.expired and creds.refresh_token:\n",
    "            creds.refresh(Request())\n",
    "        else:\n",
    "            flow = InstalledAppFlow.from_client_secrets_file(\n",
    "                'credentials.json', SCOPES)\n",
    "            creds = flow.run_local_server(port=0)\n",
    "        with open('token.pickle', 'wb') as token:\n",
    "            pickle.dump(creds, token)\n",
    "\n",
    "    service = build('sheets', 'v4', credentials=creds)\n",
    "\n",
    "    sheet = service.spreadsheets()\n",
    "    result = sheet.values().get(spreadsheetId=SAMPLE_SPREADSHEET_ID,\n",
    "                                range=SAMPLE_RANGE_NAME).execute()\n",
    "    values = result.get('values', [])\n",
    "    df = pd.DataFrame(values)\n",
    "    return(df)\n",
    "    \n",
    "df = main()"
   ]
  },
  {
   "cell_type": "markdown",
   "metadata": {},
   "source": [
    "### Gerando o arquivo de teste dos parâmetros do email"
   ]
  },
  {
   "cell_type": "code",
   "execution_count": 31,
   "metadata": {},
   "outputs": [],
   "source": [
    "df.columns=df.iloc[0] #pegando a primeira linha como nome de coluna\n",
    "df = df.iloc[1:] #desconsiderando a primeira linha, para evitar duplicata\n",
    "df.to_csv('contacts_file.csv',index = False) # esses dados serão seu check, para ver se os dados que você está mandando por email estão ok"
   ]
  },
  {
   "cell_type": "markdown",
   "metadata": {},
   "source": [
    "### Envio do email"
   ]
  },
  {
   "cell_type": "code",
   "execution_count": null,
   "metadata": {},
   "outputs": [],
   "source": [
    "# bibliotecas proprias para automatização de e-mails\n",
    "import csv, smtplib, ssl\n",
    "from email.header import Header\n",
    "from email.mime.text import MIMEText\n",
    "\n",
    "# criação de uma instância entre sua conta no gmail e o algoritmo\n",
    "\n",
    "\n",
    "from_address = \"seu_email@gmail.com\"\n",
    "password = input(\"Digite sua senha aqui: \") #proteção da senha\n",
    "\n",
    "context = ssl.create_default_context()\n",
    "with smtplib.SMTP_SSL(\"smtp.gmail.com\", 465, context=context) as server:\n",
    "    server.login(from_address, password)\n",
    "    with open(\"contacts_file.csv\", encoding = \"utf-8\") as file: #dando o encoding que aceita acentos\n",
    "        reader = csv.reader(file) # abrindo o csv de verificação de dados\n",
    "        next(reader)  \n",
    "        for nome,email,username,senha,assunto,cabecalho,corpo in reader:\n",
    "            message = MIMEText(corpo)  #estipulando a mensagem\n",
    "            message['Subject'] = Header(assunto) \n",
    "            message['From'] = \"seu_email@gmail.com\"\n",
    "            message['To'] = email\n",
    "            server.sendmail(\n",
    "                from_address,\n",
    "                email,\n",
    "                message.as_string()) #envio do email"
   ]
  },
  {
   "cell_type": "markdown",
   "metadata": {},
   "source": [
    "### Por fim, você terá alguma coisa parecida com isso chegando para os destinatários"
   ]
  },
  {
   "cell_type": "markdown",
   "metadata": {},
   "source": [
    "<center><img src=\"email_mandado.png\"><center>"
   ]
  },
  {
   "cell_type": "code",
   "execution_count": null,
   "metadata": {},
   "outputs": [],
   "source": []
  }
 ],
 "metadata": {
  "kernelspec": {
   "display_name": "Python 3",
   "language": "python",
   "name": "python3"
  },
  "language_info": {
   "codemirror_mode": {
    "name": "ipython",
    "version": 3
   },
   "file_extension": ".py",
   "mimetype": "text/x-python",
   "name": "python",
   "nbconvert_exporter": "python",
   "pygments_lexer": "ipython3",
   "version": "3.8.5"
  }
 },
 "nbformat": 4,
 "nbformat_minor": 4
}
